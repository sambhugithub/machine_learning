{
 "cells": [
  {
   "cell_type": "code",
   "execution_count": 1,
   "metadata": {},
   "outputs": [],
   "source": [
    "import pandas as pd\n",
    "\n",
    "# Import sklearn.preprocessing.StandardScaler\n",
    "from sklearn.preprocessing import MinMaxScaler\n",
    "\n",
    "\n",
    "def get_normalised_data(data):\n",
    "    \"\"\"\n",
    "    Normalises the data values using MinMaxScaler from sklearn\n",
    "    :param data: a DataFrame with columns as  ['index','Open','Close','Volume']\n",
    "    :return: a DataFrame with normalised value for all the columns except index\n",
    "    \"\"\"\n",
    "    # Initialize a scaler, then apply it to the features\n",
    "    scaler = MinMaxScaler()\n",
    "    numerical = ['Open', 'Close', 'Volume']\n",
    "    data[numerical] = scaler.fit_transform(data[numerical])\n",
    "\n",
    "    return data\n",
    "\n",
    "\n",
    "def remove_data(data):\n",
    "    \"\"\"\n",
    "    Remove columns from the data\n",
    "    :param data: a record of all the stock prices with columns as  ['Date','Open','High','Low','Close','Volume']\n",
    "    :return: a DataFrame with columns as  ['index','Open','Close','Volume']\n",
    "    \"\"\"\n",
    "    # Define columns of data to keep from historical stock data\n",
    "    item = []\n",
    "    open = []\n",
    "    close = []\n",
    "    volume = []\n",
    "\n",
    "    # Loop through the stock data objects backwards and store factors we want to keep\n",
    "    i_counter = 0\n",
    "    for i in range(len(data) - 1, -1, -1):\n",
    "        item.append(i_counter)\n",
    "        open.append(data['Open'][i])\n",
    "        close.append(data['Close'][i])\n",
    "        volume.append(data['Volume'][i])\n",
    "        i_counter += 1\n",
    "\n",
    "    # Create a data frame for stock data\n",
    "    stocks = pd.DataFrame()\n",
    "\n",
    "    # Add factors to data frame\n",
    "    stocks['Item'] = item\n",
    "    stocks['Open'] = open\n",
    "    stocks['Close'] = pd.to_numeric(close)\n",
    "    stocks['Volume'] = pd.to_numeric(volume)\n",
    "\n",
    "    # return new formatted data\n",
    "    return stocks\n",
    "\n"
   ]
  },
  {
   "cell_type": "code",
   "execution_count": null,
   "metadata": {},
   "outputs": [],
   "source": []
  }
 ],
 "metadata": {
  "kernelspec": {
   "display_name": "Python 3",
   "language": "python",
   "name": "python3"
  },
  "language_info": {
   "codemirror_mode": {
    "name": "ipython",
    "version": 3
   },
   "file_extension": ".py",
   "mimetype": "text/x-python",
   "name": "python",
   "nbconvert_exporter": "python",
   "pygments_lexer": "ipython3",
   "version": "3.7.3"
  }
 },
 "nbformat": 4,
 "nbformat_minor": 2
}
