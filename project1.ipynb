{
 "cells": [
  {
   "cell_type": "code",
   "execution_count": 1,
   "metadata": {},
   "outputs": [],
   "source": [
    "import pandas as pd\n",
    "import numpy as np\n",
    "from sklearn.svm import SVR,SVC\n",
    "from sklearn.linear_model import LinearRegression\n",
    "import matplotlib.pyplot as plt\n",
    "from datetime import datetime"
   ]
  },
  {
   "cell_type": "code",
   "execution_count": 2,
   "metadata": {},
   "outputs": [
    {
     "data": {
      "text/html": [
       "<div>\n",
       "<style scoped>\n",
       "    .dataframe tbody tr th:only-of-type {\n",
       "        vertical-align: middle;\n",
       "    }\n",
       "\n",
       "    .dataframe tbody tr th {\n",
       "        vertical-align: top;\n",
       "    }\n",
       "\n",
       "    .dataframe thead th {\n",
       "        text-align: right;\n",
       "    }\n",
       "</style>\n",
       "<table border=\"1\" class=\"dataframe\">\n",
       "  <thead>\n",
       "    <tr style=\"text-align: right;\">\n",
       "      <th></th>\n",
       "      <th>Date</th>\n",
       "      <th>Open</th>\n",
       "      <th>High</th>\n",
       "      <th>Low</th>\n",
       "      <th>Close</th>\n",
       "      <th>Volume</th>\n",
       "    </tr>\n",
       "  </thead>\n",
       "  <tbody>\n",
       "    <tr>\n",
       "      <th>0</th>\n",
       "      <td>20-Jul-17</td>\n",
       "      <td>997.00</td>\n",
       "      <td>998.68</td>\n",
       "      <td>984.62</td>\n",
       "      <td>992.19</td>\n",
       "      <td>1418385</td>\n",
       "    </tr>\n",
       "    <tr>\n",
       "      <th>1</th>\n",
       "      <td>19-Jul-17</td>\n",
       "      <td>990.01</td>\n",
       "      <td>995.60</td>\n",
       "      <td>987.01</td>\n",
       "      <td>992.77</td>\n",
       "      <td>1412148</td>\n",
       "    </tr>\n",
       "    <tr>\n",
       "      <th>2</th>\n",
       "      <td>18-Jul-17</td>\n",
       "      <td>973.36</td>\n",
       "      <td>990.85</td>\n",
       "      <td>972.04</td>\n",
       "      <td>986.95</td>\n",
       "      <td>1413335</td>\n",
       "    </tr>\n",
       "    <tr>\n",
       "      <th>3</th>\n",
       "      <td>17-Jul-17</td>\n",
       "      <td>976.32</td>\n",
       "      <td>983.35</td>\n",
       "      <td>970.80</td>\n",
       "      <td>975.96</td>\n",
       "      <td>1660464</td>\n",
       "    </tr>\n",
       "    <tr>\n",
       "      <th>4</th>\n",
       "      <td>14-Jul-17</td>\n",
       "      <td>974.00</td>\n",
       "      <td>977.54</td>\n",
       "      <td>970.15</td>\n",
       "      <td>976.91</td>\n",
       "      <td>1079608</td>\n",
       "    </tr>\n",
       "    <tr>\n",
       "      <th>5</th>\n",
       "      <td>13-Jul-17</td>\n",
       "      <td>970.80</td>\n",
       "      <td>978.70</td>\n",
       "      <td>964.80</td>\n",
       "      <td>968.85</td>\n",
       "      <td>1524571</td>\n",
       "    </tr>\n",
       "    <tr>\n",
       "      <th>6</th>\n",
       "      <td>12-Jul-17</td>\n",
       "      <td>960.86</td>\n",
       "      <td>969.63</td>\n",
       "      <td>957.04</td>\n",
       "      <td>967.66</td>\n",
       "      <td>1602115</td>\n",
       "    </tr>\n",
       "    <tr>\n",
       "      <th>7</th>\n",
       "      <td>11-Jul-17</td>\n",
       "      <td>950.52</td>\n",
       "      <td>954.89</td>\n",
       "      <td>945.12</td>\n",
       "      <td>953.53</td>\n",
       "      <td>1461247</td>\n",
       "    </tr>\n",
       "    <tr>\n",
       "      <th>8</th>\n",
       "      <td>10-Jul-17</td>\n",
       "      <td>941.95</td>\n",
       "      <td>953.13</td>\n",
       "      <td>941.95</td>\n",
       "      <td>951.00</td>\n",
       "      <td>1451460</td>\n",
       "    </tr>\n",
       "    <tr>\n",
       "      <th>9</th>\n",
       "      <td>7-Jul-17</td>\n",
       "      <td>930.98</td>\n",
       "      <td>944.66</td>\n",
       "      <td>929.79</td>\n",
       "      <td>940.81</td>\n",
       "      <td>1663302</td>\n",
       "    </tr>\n",
       "    <tr>\n",
       "      <th>10</th>\n",
       "      <td>6-Jul-17</td>\n",
       "      <td>925.00</td>\n",
       "      <td>936.14</td>\n",
       "      <td>919.85</td>\n",
       "      <td>927.69</td>\n",
       "      <td>2014855</td>\n",
       "    </tr>\n",
       "    <tr>\n",
       "      <th>11</th>\n",
       "      <td>5-Jul-17</td>\n",
       "      <td>924.20</td>\n",
       "      <td>936.29</td>\n",
       "      <td>918.63</td>\n",
       "      <td>932.26</td>\n",
       "      <td>2094055</td>\n",
       "    </tr>\n",
       "    <tr>\n",
       "      <th>12</th>\n",
       "      <td>3-Jul-17</td>\n",
       "      <td>933.22</td>\n",
       "      <td>934.24</td>\n",
       "      <td>915.31</td>\n",
       "      <td>919.46</td>\n",
       "      <td>1694811</td>\n",
       "    </tr>\n",
       "  </tbody>\n",
       "</table>\n",
       "</div>"
      ],
      "text/plain": [
       "         Date    Open    High     Low   Close   Volume\n",
       "0   20-Jul-17  997.00  998.68  984.62  992.19  1418385\n",
       "1   19-Jul-17  990.01  995.60  987.01  992.77  1412148\n",
       "2   18-Jul-17  973.36  990.85  972.04  986.95  1413335\n",
       "3   17-Jul-17  976.32  983.35  970.80  975.96  1660464\n",
       "4   14-Jul-17  974.00  977.54  970.15  976.91  1079608\n",
       "5   13-Jul-17  970.80  978.70  964.80  968.85  1524571\n",
       "6   12-Jul-17  960.86  969.63  957.04  967.66  1602115\n",
       "7   11-Jul-17  950.52  954.89  945.12  953.53  1461247\n",
       "8   10-Jul-17  941.95  953.13  941.95  951.00  1451460\n",
       "9    7-Jul-17  930.98  944.66  929.79  940.81  1663302\n",
       "10   6-Jul-17  925.00  936.14  919.85  927.69  2014855\n",
       "11   5-Jul-17  924.20  936.29  918.63  932.26  2094055\n",
       "12   3-Jul-17  933.22  934.24  915.31  919.46  1694811"
      ]
     },
     "execution_count": 2,
     "metadata": {},
     "output_type": "execute_result"
    }
   ],
   "source": [
    "df = pd.read_csv('D:\\\\exe_file\\\\machine_learning\\\\stock_price_predictor\\\\googl.csv')\n",
    "df"
   ]
  },
  {
   "cell_type": "code",
   "execution_count": 3,
   "metadata": {},
   "outputs": [],
   "source": [
    "dates = []\n",
    "prices = []"
   ]
  },
  {
   "cell_type": "code",
   "execution_count": 4,
   "metadata": {},
   "outputs": [
    {
     "data": {
      "text/plain": [
       "(13, 6)"
      ]
     },
     "execution_count": 4,
     "metadata": {},
     "output_type": "execute_result"
    }
   ],
   "source": [
    "df.shape"
   ]
  },
  {
   "cell_type": "code",
   "execution_count": 5,
   "metadata": {},
   "outputs": [
    {
     "data": {
      "text/html": [
       "<div>\n",
       "<style scoped>\n",
       "    .dataframe tbody tr th:only-of-type {\n",
       "        vertical-align: middle;\n",
       "    }\n",
       "\n",
       "    .dataframe tbody tr th {\n",
       "        vertical-align: top;\n",
       "    }\n",
       "\n",
       "    .dataframe thead th {\n",
       "        text-align: right;\n",
       "    }\n",
       "</style>\n",
       "<table border=\"1\" class=\"dataframe\">\n",
       "  <thead>\n",
       "    <tr style=\"text-align: right;\">\n",
       "      <th></th>\n",
       "      <th>Date</th>\n",
       "      <th>Open</th>\n",
       "      <th>High</th>\n",
       "      <th>Low</th>\n",
       "      <th>Close</th>\n",
       "      <th>Volume</th>\n",
       "    </tr>\n",
       "  </thead>\n",
       "  <tbody>\n",
       "    <tr>\n",
       "      <th>12</th>\n",
       "      <td>3-Jul-17</td>\n",
       "      <td>933.22</td>\n",
       "      <td>934.24</td>\n",
       "      <td>915.31</td>\n",
       "      <td>919.46</td>\n",
       "      <td>1694811</td>\n",
       "    </tr>\n",
       "  </tbody>\n",
       "</table>\n",
       "</div>"
      ],
      "text/plain": [
       "        Date    Open    High     Low   Close   Volume\n",
       "12  3-Jul-17  933.22  934.24  915.31  919.46  1694811"
      ]
     },
     "execution_count": 5,
     "metadata": {},
     "output_type": "execute_result"
    }
   ],
   "source": [
    "df.tail(1)"
   ]
  },
  {
   "cell_type": "code",
   "execution_count": null,
   "metadata": {},
   "outputs": [],
   "source": []
  },
  {
   "cell_type": "code",
   "execution_count": 6,
   "metadata": {},
   "outputs": [
    {
     "data": {
      "text/html": [
       "<div>\n",
       "<style scoped>\n",
       "    .dataframe tbody tr th:only-of-type {\n",
       "        vertical-align: middle;\n",
       "    }\n",
       "\n",
       "    .dataframe tbody tr th {\n",
       "        vertical-align: top;\n",
       "    }\n",
       "\n",
       "    .dataframe thead th {\n",
       "        text-align: right;\n",
       "    }\n",
       "</style>\n",
       "<table border=\"1\" class=\"dataframe\">\n",
       "  <thead>\n",
       "    <tr style=\"text-align: right;\">\n",
       "      <th></th>\n",
       "      <th>Date</th>\n",
       "      <th>Open</th>\n",
       "      <th>High</th>\n",
       "      <th>Low</th>\n",
       "      <th>Close</th>\n",
       "      <th>Volume</th>\n",
       "    </tr>\n",
       "  </thead>\n",
       "  <tbody>\n",
       "    <tr>\n",
       "      <th>0</th>\n",
       "      <td>20-Jul-17</td>\n",
       "      <td>997.00</td>\n",
       "      <td>998.68</td>\n",
       "      <td>984.62</td>\n",
       "      <td>992.19</td>\n",
       "      <td>1418385</td>\n",
       "    </tr>\n",
       "    <tr>\n",
       "      <th>1</th>\n",
       "      <td>19-Jul-17</td>\n",
       "      <td>990.01</td>\n",
       "      <td>995.60</td>\n",
       "      <td>987.01</td>\n",
       "      <td>992.77</td>\n",
       "      <td>1412148</td>\n",
       "    </tr>\n",
       "    <tr>\n",
       "      <th>2</th>\n",
       "      <td>18-Jul-17</td>\n",
       "      <td>973.36</td>\n",
       "      <td>990.85</td>\n",
       "      <td>972.04</td>\n",
       "      <td>986.95</td>\n",
       "      <td>1413335</td>\n",
       "    </tr>\n",
       "    <tr>\n",
       "      <th>3</th>\n",
       "      <td>17-Jul-17</td>\n",
       "      <td>976.32</td>\n",
       "      <td>983.35</td>\n",
       "      <td>970.80</td>\n",
       "      <td>975.96</td>\n",
       "      <td>1660464</td>\n",
       "    </tr>\n",
       "    <tr>\n",
       "      <th>4</th>\n",
       "      <td>14-Jul-17</td>\n",
       "      <td>974.00</td>\n",
       "      <td>977.54</td>\n",
       "      <td>970.15</td>\n",
       "      <td>976.91</td>\n",
       "      <td>1079608</td>\n",
       "    </tr>\n",
       "    <tr>\n",
       "      <th>5</th>\n",
       "      <td>13-Jul-17</td>\n",
       "      <td>970.80</td>\n",
       "      <td>978.70</td>\n",
       "      <td>964.80</td>\n",
       "      <td>968.85</td>\n",
       "      <td>1524571</td>\n",
       "    </tr>\n",
       "    <tr>\n",
       "      <th>6</th>\n",
       "      <td>12-Jul-17</td>\n",
       "      <td>960.86</td>\n",
       "      <td>969.63</td>\n",
       "      <td>957.04</td>\n",
       "      <td>967.66</td>\n",
       "      <td>1602115</td>\n",
       "    </tr>\n",
       "    <tr>\n",
       "      <th>7</th>\n",
       "      <td>11-Jul-17</td>\n",
       "      <td>950.52</td>\n",
       "      <td>954.89</td>\n",
       "      <td>945.12</td>\n",
       "      <td>953.53</td>\n",
       "      <td>1461247</td>\n",
       "    </tr>\n",
       "    <tr>\n",
       "      <th>8</th>\n",
       "      <td>10-Jul-17</td>\n",
       "      <td>941.95</td>\n",
       "      <td>953.13</td>\n",
       "      <td>941.95</td>\n",
       "      <td>951.00</td>\n",
       "      <td>1451460</td>\n",
       "    </tr>\n",
       "    <tr>\n",
       "      <th>9</th>\n",
       "      <td>7-Jul-17</td>\n",
       "      <td>930.98</td>\n",
       "      <td>944.66</td>\n",
       "      <td>929.79</td>\n",
       "      <td>940.81</td>\n",
       "      <td>1663302</td>\n",
       "    </tr>\n",
       "    <tr>\n",
       "      <th>10</th>\n",
       "      <td>6-Jul-17</td>\n",
       "      <td>925.00</td>\n",
       "      <td>936.14</td>\n",
       "      <td>919.85</td>\n",
       "      <td>927.69</td>\n",
       "      <td>2014855</td>\n",
       "    </tr>\n",
       "    <tr>\n",
       "      <th>11</th>\n",
       "      <td>5-Jul-17</td>\n",
       "      <td>924.20</td>\n",
       "      <td>936.29</td>\n",
       "      <td>918.63</td>\n",
       "      <td>932.26</td>\n",
       "      <td>2094055</td>\n",
       "    </tr>\n",
       "    <tr>\n",
       "      <th>12</th>\n",
       "      <td>3-Jul-17</td>\n",
       "      <td>933.22</td>\n",
       "      <td>934.24</td>\n",
       "      <td>915.31</td>\n",
       "      <td>919.46</td>\n",
       "      <td>1694811</td>\n",
       "    </tr>\n",
       "  </tbody>\n",
       "</table>\n",
       "</div>"
      ],
      "text/plain": [
       "         Date    Open    High     Low   Close   Volume\n",
       "0   20-Jul-17  997.00  998.68  984.62  992.19  1418385\n",
       "1   19-Jul-17  990.01  995.60  987.01  992.77  1412148\n",
       "2   18-Jul-17  973.36  990.85  972.04  986.95  1413335\n",
       "3   17-Jul-17  976.32  983.35  970.80  975.96  1660464\n",
       "4   14-Jul-17  974.00  977.54  970.15  976.91  1079608\n",
       "5   13-Jul-17  970.80  978.70  964.80  968.85  1524571\n",
       "6   12-Jul-17  960.86  969.63  957.04  967.66  1602115\n",
       "7   11-Jul-17  950.52  954.89  945.12  953.53  1461247\n",
       "8   10-Jul-17  941.95  953.13  941.95  951.00  1451460\n",
       "9    7-Jul-17  930.98  944.66  929.79  940.81  1663302\n",
       "10   6-Jul-17  925.00  936.14  919.85  927.69  2014855\n",
       "11   5-Jul-17  924.20  936.29  918.63  932.26  2094055\n",
       "12   3-Jul-17  933.22  934.24  915.31  919.46  1694811"
      ]
     },
     "execution_count": 6,
     "metadata": {},
     "output_type": "execute_result"
    }
   ],
   "source": [
    "df = df.head(len(df))\n",
    "df\n"
   ]
  },
  {
   "cell_type": "code",
   "execution_count": 7,
   "metadata": {},
   "outputs": [
    {
     "data": {
      "text/plain": [
       "(13, 6)"
      ]
     },
     "execution_count": 7,
     "metadata": {},
     "output_type": "execute_result"
    }
   ],
   "source": [
    "df.shape"
   ]
  },
  {
   "cell_type": "code",
   "execution_count": 8,
   "metadata": {
    "scrolled": true
   },
   "outputs": [],
   "source": [
    "#Get all of the rows from the Date Column\n",
    "df_dates = df.loc[:, 'Date']\n",
    "#Get all of the rows from the Open Column\n",
    "df_open = df.loc[:, 'Open']"
   ]
  },
  {
   "cell_type": "code",
   "execution_count": 9,
   "metadata": {},
   "outputs": [
    {
     "data": {
      "text/plain": [
       "0     20-Jul-17\n",
       "1     19-Jul-17\n",
       "2     18-Jul-17\n",
       "3     17-Jul-17\n",
       "4     14-Jul-17\n",
       "5     13-Jul-17\n",
       "6     12-Jul-17\n",
       "7     11-Jul-17\n",
       "8     10-Jul-17\n",
       "9      7-Jul-17\n",
       "10     6-Jul-17\n",
       "11     5-Jul-17\n",
       "12     3-Jul-17\n",
       "Name: Date, dtype: object"
      ]
     },
     "execution_count": 9,
     "metadata": {},
     "output_type": "execute_result"
    }
   ],
   "source": [
    "df_dates"
   ]
  },
  {
   "cell_type": "code",
   "execution_count": 10,
   "metadata": {},
   "outputs": [],
   "source": [
    "#Create the independent data set X\n",
    "for date in df_dates:\n",
    "  dates.append( [int(date.split('-')[0])])\n",
    "  \n",
    "#Create the dependent data se 'y'\n",
    "for open_price in df_open:\n",
    "  prices.append(float(open_price))"
   ]
  },
  {
   "cell_type": "code",
   "execution_count": 11,
   "metadata": {},
   "outputs": [
    {
     "name": "stdout",
     "output_type": "stream",
     "text": [
      "[[20], [19], [18], [17], [14], [13], [12], [11], [10], [7], [6], [5], [3]]\n"
     ]
    }
   ],
   "source": [
    "print(dates)"
   ]
  },
  {
   "cell_type": "code",
   "execution_count": 12,
   "metadata": {},
   "outputs": [
    {
     "name": "stdout",
     "output_type": "stream",
     "text": [
      "[997.0, 990.01, 973.36, 976.32, 974.0, 970.8, 960.86, 950.52, 941.95, 930.98, 925.0, 924.2, 933.22]\n"
     ]
    }
   ],
   "source": [
    "print(prices)"
   ]
  },
  {
   "cell_type": "code",
   "execution_count": 13,
   "metadata": {},
   "outputs": [],
   "source": [
    "def predict_prices(dates, prices,x):\n",
    "  \n",
    "  #Create the 3 Support Vector Regression models\n",
    "  svr_lin = SVR(kernel='linear', C= 1e3)\n",
    "  svr_poly= SVR(kernel='poly', C=1e3, degree=2)\n",
    "  svr_rbf = SVR(kernel='rbf', C=1e3, gamma=0.1)\n",
    "  \n",
    "  #Train the SVR models \n",
    "  svr_lin.fit(dates,prices)\n",
    "  svr_poly.fit(dates,prices)\n",
    "  svr_rbf.fit(dates,prices)\n",
    "  \n",
    "  #Create the Linear Regression model\n",
    "  lin_reg = LinearRegression()\n",
    "  #Train the Linear Regression model\n",
    "  lin_reg.fit(dates,prices)\n",
    "  \n",
    "  #Plot the models on a graph to see which has the best fit\n",
    "  plt.scatter(dates, prices, color='black', label='Data')\n",
    "  plt.plot(dates, svr_rbf.predict(dates), color='red', label='SVR RBF')\n",
    "  plt.plot(dates, svr_poly.predict(dates), color='blue', label='SVR Poly')\n",
    "  plt.plot(dates, svr_lin.predict(dates), color='green', label='SVR Linear')\n",
    "  plt.plot(dates, lin_reg.predict(dates), color='orange', label='Linear Reg')\n",
    "  plt.xlabel('Days')\n",
    "  plt.ylabel('Price')\n",
    "  plt.title('Regression')\n",
    "  plt.legend()\n",
    "  plt.show()\n",
    "  \n",
    "  return svr_rbf.predict(x)[0], svr_lin.predict(x)[0],svr_poly.predict(x)[0],lin_reg.predict(x)[0]"
   ]
  },
  {
   "cell_type": "code",
   "execution_count": 14,
   "metadata": {},
   "outputs": [
    {
     "name": "stderr",
     "output_type": "stream",
     "text": [
      "C:\\ProgramData\\Anaconda3\\lib\\site-packages\\sklearn\\svm\\base.py:193: FutureWarning: The default value of gamma will change from 'auto' to 'scale' in version 0.22 to account better for unscaled features. Set gamma explicitly to 'auto' or 'scale' to avoid this warning.\n",
      "  \"avoid this warning.\", FutureWarning)\n"
     ]
    },
    {
     "data": {
      "image/png": "[encoded data removed]",
      "text/plain": [
       "<Figure size 432x288 with 1 Axes>"
      ]
     },
     "metadata": {
      "needs_background": "light"
     },
     "output_type": "display_data"
    },
    {
     "name": "stdout",
     "output_type": "stream",
     "text": [
      "svr_rbf = 942.0502202600076\n",
      "svr_lin = 947.6035714285364\n",
      "svr_poly = 942.0500000122152\n",
      "lin_reg = 949.3666003282725\n"
     ]
    }
   ],
   "source": [
    "svr_rbf1,svr_lin1,svr_poly1,lin_reg1 = predict_prices(dates, prices,[[10]])\n",
    "print(f\"svr_rbf = {svr_rbf1}\")\n",
    "print(f\"svr_lin = {svr_lin1}\")\n",
    "print(f\"svr_poly = {svr_poly1}\")\n",
    "print(f\"lin_reg = {lin_reg1}\")"
   ]
  },
  {
   "cell_type": "code",
   "execution_count": 15,
   "metadata": {},
   "outputs": [],
   "source": [
    "from sklearn.metrics import confusion_matrix, accuracy_score, f1_score, log_loss\n",
    "\n"
   ]
  },
  {
   "cell_type": "code",
   "execution_count": 16,
   "metadata": {},
   "outputs": [
    {
     "name": "stdout",
     "output_type": "stream",
     "text": [
      "Confusion Matrix :\n",
      "[[0 0]\n",
      " [4 0]]\n"
     ]
    }
   ],
   "source": [
    "#confusion matrix:\n",
    "g_price=[1,1,1,1]\n",
    "p_price=[0,0,0,0]\n",
    "results = confusion_matrix(g_price , p_price) \n",
    "print ('Confusion Matrix :')\n",
    "print(results) \n",
    "\n"
   ]
  },
  {
   "cell_type": "code",
   "execution_count": 17,
   "metadata": {},
   "outputs": [
    {
     "name": "stdout",
     "output_type": "stream",
     "text": [
      "Accuracy Score :\n",
      "0.0\n"
     ]
    }
   ],
   "source": [
    "#accuracy score:\n",
    "print( 'Accuracy Score :')\n",
    "acc=accuracy_score(g_price, p_price)\n",
    "print(acc) \n"
   ]
  },
  {
   "cell_type": "code",
   "execution_count": 18,
   "metadata": {},
   "outputs": [
    {
     "name": "stdout",
     "output_type": "stream",
     "text": [
      "accuracy of svr_rbf :100.01063965815676%\n"
     ]
    }
   ],
   "source": [
    "#acuuracy for svr_rbf model:\n",
    "a1=(svr_rbf1 * 100)/941.95\n",
    "print(f\"accuracy of svr_rbf :{a1}%\")"
   ]
  },
  {
   "cell_type": "code",
   "execution_count": 19,
   "metadata": {},
   "outputs": [
    {
     "name": "stdout",
     "output_type": "stream",
     "text": [
      "accuracy of svr_lin :100.60019867599514%\n"
     ]
    }
   ],
   "source": [
    "#acuuracy for svr_lin model:\n",
    "a2=(svr_lin1 * 100)/941.95\n",
    "print(f\"accuracy of svr_lin :{a2}%\")"
   ]
  },
  {
   "cell_type": "code",
   "execution_count": 20,
   "metadata": {},
   "outputs": [
    {
     "name": "stdout",
     "output_type": "stream",
     "text": [
      "accuracy of svr_poly :100.01061627604598%\n"
     ]
    }
   ],
   "source": [
    "#acuuracy for svr_poly model:\n",
    "a3=(svr_poly1 * 100)/941.95\n",
    "print(f\"accuracy of svr_poly :{a3}%\")"
   ]
  },
  {
   "cell_type": "code",
   "execution_count": 21,
   "metadata": {},
   "outputs": [
    {
     "name": "stdout",
     "output_type": "stream",
     "text": [
      "accuracy of lin_reg :100.78736666789877%\n"
     ]
    }
   ],
   "source": [
    "#acuuracy for lin_reg model: \n",
    "a4=(lin_reg1* 100)/941.95\n",
    "print(f\"accuracy of lin_reg :{a4}%\")"
   ]
  },
  {
   "cell_type": "code",
   "execution_count": 23,
   "metadata": {},
   "outputs": [
    {
     "ename": "NameError",
     "evalue": "name 'svr_rbf' is not defined",
     "output_type": "error",
     "traceback": [
      "\u001b[1;31m---------------------------------------------------------------------------\u001b[0m",
      "\u001b[1;31mNameError\u001b[0m                                 Traceback (most recent call last)",
      "\u001b[1;32m<ipython-input-23-aaed6296dfae>\u001b[0m in \u001b[0;36m<module>\u001b[1;34m\u001b[0m\n\u001b[1;32m----> 1\u001b[1;33m \u001b[0msvr_rbf\u001b[0m\u001b[1;33m.\u001b[0m\u001b[0mpredict\u001b[0m\u001b[1;33m(\u001b[0m\u001b[1;36m10\u001b[0m\u001b[1;33m)\u001b[0m\u001b[1;33m\u001b[0m\u001b[1;33m\u001b[0m\u001b[0m\n\u001b[0m",
      "\u001b[1;31mNameError\u001b[0m: name 'svr_rbf' is not defined"
     ]
    }
   ],
   "source": [
    "svr_rbf.predict(10)"
   ]
  },
  {
   "cell_type": "code",
   "execution_count": 24,
   "metadata": {},
   "outputs": [
    {
     "ename": "NameError",
     "evalue": "name 'lin_reg' is not defined",
     "output_type": "error",
     "traceback": [
      "\u001b[1;31m---------------------------------------------------------------------------\u001b[0m",
      "\u001b[1;31mNameError\u001b[0m                                 Traceback (most recent call last)",
      "\u001b[1;32m<ipython-input-24-106a8eab7c8b>\u001b[0m in \u001b[0;36m<module>\u001b[1;34m\u001b[0m\n\u001b[1;32m----> 1\u001b[1;33m \u001b[0mlin_reg\u001b[0m\u001b[1;33m.\u001b[0m\u001b[0mpredict\u001b[0m\u001b[1;33m(\u001b[0m\u001b[1;36m10\u001b[0m\u001b[1;33m)\u001b[0m\u001b[1;33m\u001b[0m\u001b[1;33m\u001b[0m\u001b[0m\n\u001b[0m",
      "\u001b[1;31mNameError\u001b[0m: name 'lin_reg' is not defined"
     ]
    }
   ],
   "source": [
    "lin_reg.predict(10)"
   ]
  },
  {
   "cell_type": "code",
   "execution_count": 25,
   "metadata": {},
   "outputs": [
    {
     "ename": "NameError",
     "evalue": "name 'svr_poly' is not defined",
     "output_type": "error",
     "traceback": [
      "\u001b[1;31m---------------------------------------------------------------------------\u001b[0m",
      "\u001b[1;31mNameError\u001b[0m                                 Traceback (most recent call last)",
      "\u001b[1;32m<ipython-input-25-fceae88df1ba>\u001b[0m in \u001b[0;36m<module>\u001b[1;34m\u001b[0m\n\u001b[1;32m----> 1\u001b[1;33m \u001b[0msvr_poly\u001b[0m\u001b[1;33m.\u001b[0m\u001b[0mpredict\u001b[0m\u001b[1;33m(\u001b[0m\u001b[1;36m10\u001b[0m\u001b[1;33m)\u001b[0m\u001b[1;33m\u001b[0m\u001b[1;33m\u001b[0m\u001b[0m\n\u001b[0m",
      "\u001b[1;31mNameError\u001b[0m: name 'svr_poly' is not defined"
     ]
    }
   ],
   "source": [
    "svr_poly.predict(10)"
   ]
  },
  {
   "cell_type": "code",
   "execution_count": null,
   "metadata": {},
   "outputs": [],
   "source": [
    "svr_lin.predict(10)"
   ]
  },
  {
   "cell_type": "code",
   "execution_count": null,
   "metadata": {},
   "outputs": [],
   "source": []
  }
 ],
 "metadata": {
  "kernelspec": {
   "display_name": "Python 3",
   "language": "python",
   "name": "python3"
  },
  "language_info": {
   "codemirror_mode": {
    "name": "ipython",
    "version": 3
   },
   "file_extension": ".py",
   "mimetype": "text/x-python",
   "name": "python",
   "nbconvert_exporter": "python",
   "pygments_lexer": "ipython3",
   "version": "3.7.3"
  }
 },
 "nbformat": 4,
 "nbformat_minor": 2
}
